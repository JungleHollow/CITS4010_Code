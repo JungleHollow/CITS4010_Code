{
 "cells": [
  {
   "cell_type": "code",
   "execution_count": 23,
   "id": "initial_id",
   "metadata": {
    "collapsed": true,
    "ExecuteTime": {
     "end_time": "2024-05-06T05:15:18.782158Z",
     "start_time": "2024-05-06T05:15:18.778641Z"
    }
   },
   "outputs": [],
   "source": [
    "# from Kitsune_py_master.KitNET import KitNET as kitsune\n",
    "from Kitsune_py_master.Kitsune import *\n",
    "import pandas as pd\n",
    "import numpy as np\n",
    "import pickle\n",
    "import os\n",
    "\n",
    "pd.options.display.float_format = '{:20,.2f}'.format\n",
    "\n",
    "UNSW_PCAP17_4 = \"./Datasets/UNSW_NB15/pcaps_17-2-2015/4.pcap\"\n",
    "UNSW_TSV17_4 = \"./Datasets/UNSW_NB15/pcaps_17-2-2015/4.pcap.tsv\"\n",
    "MIRAI_PCAP = \"./Datasets/Mirai/mirai.pcap\"\n",
    "MIRAI_TSV = \"./Datasets/Mirai/mirai.pcap.tsv\""
   ]
  },
  {
   "cell_type": "code",
   "outputs": [
    {
     "name": "stdout",
     "output_type": "stream",
     "text": [
      "Parsing with tshark...\n",
      "tshark parsing complete. File saved as: ./Datasets/UNSW_NB15/pcaps_17-2-2015/4.pcap.tsv\n",
      "counting lines in file...\n",
      "There are 3547688 Packets.\n",
      "Feature-Mapper: train-mode, Anomaly-Detector: off-mode\n",
      "Parsing with tshark...\n",
      "tshark parsing complete. File saved as: ./Datasets/Mirai/mirai.pcap.tsv\n",
      "counting lines in file...\n",
      "There are 764138 Packets.\n",
      "Feature-Mapper: train-mode, Anomaly-Detector: off-mode\n",
      "The Feature-Mapper found a mapping: 100 features to 12 autoencoders.\n",
      "Feature-Mapper: execute-mode, Anomaly-Detector: train-mode\n",
      "Feature-Mapper: execute-mode, Anomaly-Detector: execute-mode\n",
      "The Feature-Mapper found a mapping: 100 features to 16 autoencoders.\n",
      "Feature-Mapper: execute-mode, Anomaly-Detector: train-mode\n",
      "Feature-Mapper: execute-mode, Anomaly-Detector: execute-mode\n",
      "Finished processing all input packets...\n"
     ]
    }
   ],
   "source": [
    "if not os.path.isfile(UNSW_TSV17_4):\n",
    "    unsw_model = Kitsune(UNSW_PCAP17_4, np.inf)\n",
    "else:\n",
    "    unsw_model = Kitsune(UNSW_TSV17_4, np.inf)\n",
    "    \n",
    "if not os.path.isfile(MIRAI_TSV):\n",
    "    mirai_model = Kitsune(MIRAI_PCAP, np.inf)\n",
    "else:\n",
    "    mirai_model = Kitsune(MIRAI_TSV, np.inf)\n",
    "        \n",
    "rmse = 0\n",
    "current_packet = 1\n",
    "\n",
    "unsw_rmse = []\n",
    "mirai_rmse = []\n",
    "\n",
    "while rmse != -1:\n",
    "    # print(f\"Processing packet {current_packet}...\")\n",
    "    unsw_rmse.append(rmse)\n",
    "    rmse = unsw_model.proc_next_packet()\n",
    "    # print(f\"==== Packet {current_packet} RMSE: {rmse} ====\")\n",
    "    current_packet += 1\n",
    "    \n",
    "rmse = 0\n",
    "current_packet = 1\n",
    "\n",
    "while rmse != -1:\n",
    "    mirai_rmse.append(rmse)\n",
    "    rmse = mirai_model.proc_next_packet()\n",
    "    current_packet += 1\n",
    "    \n",
    "print(f\"Finished processing all input packets...\")\n",
    "\n",
    "with open(\"./results/kitsune/unsw_pcap4.pkl\", \"wb\") as f:\n",
    "    pickle.dump(unsw_rmse, f)\n",
    "with open(\"./results/kitsune/mirai.pkl\", \"wb\") as f:\n",
    "    pickle.dump(mirai_rmse, f)\n",
    "    "
   ],
   "metadata": {
    "collapsed": false,
    "ExecuteTime": {
     "end_time": "2024-05-06T06:37:08.326658Z",
     "start_time": "2024-05-06T05:15:22.337336Z"
    }
   },
   "id": "95d1c7aea8e6920a",
   "execution_count": 24
  },
  {
   "cell_type": "code",
   "outputs": [],
   "source": [],
   "metadata": {
    "collapsed": false
   },
   "id": "5693749926391e39"
  }
 ],
 "metadata": {
  "kernelspec": {
   "display_name": "Python 3",
   "language": "python",
   "name": "python3"
  },
  "language_info": {
   "codemirror_mode": {
    "name": "ipython",
    "version": 2
   },
   "file_extension": ".py",
   "mimetype": "text/x-python",
   "name": "python",
   "nbconvert_exporter": "python",
   "pygments_lexer": "ipython2",
   "version": "2.7.6"
  }
 },
 "nbformat": 4,
 "nbformat_minor": 5
}
